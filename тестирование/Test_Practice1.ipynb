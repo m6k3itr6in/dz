{
 "cells": [
  {
   "cell_type": "markdown",
   "id": "d7e74770-070c-4a22-9e98-cb1523d714b5",
   "metadata": {},
   "source": [
    "## Тестирование без framework:"
   ]
  },
  {
   "cell_type": "code",
   "execution_count": 1,
   "id": "3a94f13e-55f3-4dcf-9634-3b00ca119553",
   "metadata": {},
   "outputs": [],
   "source": [
    "# Модуль calc.py\n",
    "\n",
    "def add (a,b ):\n",
    "    return a + b \n",
    "\n",
    "def sub (a,b ):\n",
    "    return a - b \n",
    "\n",
    "def mul (a,b ):\n",
    "    return a * b \n",
    "\n",
    "def div (a,b ):\n",
    "    return a / b "
   ]
  },
  {
   "cell_type": "code",
   "execution_count": 2,
   "id": "f7f37c5d-11f9-4dfb-932d-af0f6116e562",
   "metadata": {},
   "outputs": [
    {
     "name": "stdout",
     "output_type": "stream",
     "text": [
      "Test add(a,   b) is OK\n",
      "Test sub(a,   b) is OK\n",
      "Test mul(a, b) is OK\n",
      "Test div(a, b) is OK\n"
     ]
    }
   ],
   "source": [
    "# Модуль test_calc.py\n",
    "#import calc\n",
    "\n",
    "def test_add():              \n",
    "#    if calc.add(1, 2) == 3:    \n",
    "    if add(1, 2) == 3: \n",
    "        print(\"Test add(a,   b) is OK\" )              \n",
    "    else :                          \n",
    "        print(\"Test add(a, b) is Fail\" ) \n",
    "\n",
    "def test_sub():              \n",
    "#    if calc.sub(4, 2) == 2:  \n",
    "    if sub(4, 2) == 2: \n",
    "        print(\"Test sub(a,   b) is OK\" )              \n",
    "    else :                          \n",
    "        print(\"Test sub(a, b) is Fail\" ) \n",
    "\n",
    "def test_mul():              \n",
    "#    if calc.mul(2, 5) == 10:     \n",
    "    if mul(2, 5) == 10: \n",
    "        print(\"Test mul(a, b) is OK\" )              \n",
    "    else :                          \n",
    "        print(\"Test mul(a, b) is Fail\" ) \n",
    "\n",
    "def test_div():              \n",
    "#    if calc.div(8, 4) == 2: \n",
    "    if div(8, 4) == 2: \n",
    "        print(\"Test div(a, b) is OK\" )              \n",
    "    else :                          \n",
    "        print(\"Test div(a, b) is Fail\" ) \n",
    "\n",
    "test_add()\n",
    "test_sub()\n",
    "test_mul()\n",
    "test_div()"
   ]
  },
  {
   "cell_type": "markdown",
   "id": "c123696d-106a-4a0a-a6aa-d64e1382225c",
   "metadata": {},
   "source": [
    "В Python встроен модуль unittest, который поддерживает автоматизацию тестов, использование общего кода для настройки и завершения тестов, объединение тестов в группы, а также позволяет отделять тесты от фреймворка для вывода информации."
   ]
  },
  {
   "cell_type": "code",
   "execution_count": 5,
   "id": "ab542718-49d0-401f-bdfa-dd18bd4c8e42",
   "metadata": {},
   "outputs": [],
   "source": [
    "import unittest \n",
    "\n",
    "class CalcTest(unittest.TestCase):\n",
    "    def test_add(self):                          \n",
    "        self.assertEqual(add(1,2), 3)\n",
    "    \n",
    "    def test_sub(self):                          \n",
    "        self.assertEqual(sub(4,2), 2)\n",
    "        \n",
    "    def test_mul(self):                          \n",
    "        self.assertEqual(mul(2,5), 10)\n",
    "        \n",
    "    def test_div(self):                          \n",
    "        self.assertEqual(div(8,4), 2)"
   ]
  },
  {
   "cell_type": "code",
   "execution_count": 6,
   "id": "dc92d7d7-c2e3-432b-90a5-4afec647769f",
   "metadata": {},
   "outputs": [
    {
     "name": "stderr",
     "output_type": "stream",
     "text": [
      "test_add (__main__.CalcTest.test_add) ... ok\n",
      "test_div (__main__.CalcTest.test_div) ... ok\n",
      "test_mul (__main__.CalcTest.test_mul) ... ok\n",
      "test_sub (__main__.CalcTest.test_sub) ... ok\n",
      "\n",
      "----------------------------------------------------------------------\n",
      "Ran 4 tests in 0.004s\n",
      "\n",
      "OK\n"
     ]
    },
    {
     "data": {
      "text/plain": [
       "<unittest.main.TestProgram at 0x1085cf5d0>"
      ]
     },
     "execution_count": 6,
     "metadata": {},
     "output_type": "execute_result"
    }
   ],
   "source": [
    "unittest.main(argv=[''], verbosity=2, exit=False) "
   ]
  },
  {
   "cell_type": "markdown",
   "id": "45d0a33c-25f1-412c-be4e-b7d9130371f1",
   "metadata": {},
   "source": [
    "# Основные компоненты unittest\n",
    "## 1. Классы тестов: \n",
    "Тесты создаются путем наследования от класса unittest.TestCase.\n",
    "## 2. Методы проверки (assertions): \n",
    "Используются для проверки ожидаемых результатов. Например:\n",
    "\n",
    "assertEqual(a, b): проверяет, что a = b.\n",
    "\n",
    "assertTrue(x): проверяет, что x истинно.\n",
    "\n",
    "assertRaises(ErrorType): проверяет, что возникает определенное исключение.\n",
    "\n",
    "### 3. Опционально - методы setUp и tearDown: \n",
    "вызываются перед и после каждого теста соответственно, позволяя подготовить тестовую среду и очистить её.\n",
    "\n",
    "Пример:"
   ]
  },
  {
   "cell_type": "code",
   "execution_count": 18,
   "id": "58cec6e0-762f-44c1-99e2-7e9bc0008a48",
   "metadata": {},
   "outputs": [],
   "source": [
    "def count_increases(data):\n",
    "    \"\"\"Посчитать количество элементов списка, больших, чем предыдущие\"\"\"\n",
    "    increase_count = 0\n",
    "    prev = None\n",
    "\n",
    "    for measurement in data:\n",
    "        if prev and measurement > prev:\n",
    "            increase_count += 1\n",
    "\n",
    "        prev = measurement\n",
    "    return increase_count"
   ]
  },
  {
   "cell_type": "code",
   "execution_count": 19,
   "id": "231c60d2-84fe-4e98-81a6-49635ccade7f",
   "metadata": {},
   "outputs": [],
   "source": [
    "import unittest\n",
    "\n",
    "class CountIncreaseTestCase(unittest.TestCase):\n",
    "\n",
    "    def test_empty_has_none(self):\n",
    "        self.assertEqual(count_increases([]), 0)\n",
    "\n",
    "    def test_one_measurement_has_none(self):\n",
    "    \tself.assertEqual(count_increases([199]), 0)\n",
    "\n",
    "    def test_three_ascending_has_two(self):\n",
    "        self.assertEqual(count_increases([199, 200, 201]), 2)\n"
   ]
  },
  {
   "cell_type": "markdown",
   "id": "8d8a1374-3558-4219-b129-20d72d89bbdb",
   "metadata": {},
   "source": [
    "Тесты реализуются в отдельных классах, которые затем запускаются. Это обеспечивает удобный интерфейс и позволяет давать тестам понятные названия, что упрощает поиск неудачных тестов.\n",
    "\n",
    "Важно отметить, что при запуске тестов в Jupyter Notebook необходимо передавать аргументы argv=[''] и exit=False в функцию unittest.main, иначе возникнет ошибка."
   ]
  },
  {
   "cell_type": "code",
   "execution_count": 20,
   "id": "4de9a245-9cfb-4fb5-a690-8b4638143537",
   "metadata": {},
   "outputs": [
    {
     "name": "stderr",
     "output_type": "stream",
     "text": [
      "test_add (__main__.CalcTest.test_add) ... ok\n",
      "test_div (__main__.CalcTest.test_div) ... ok\n",
      "test_mul (__main__.CalcTest.test_mul) ... ok\n",
      "test_sub (__main__.CalcTest.test_sub) ... ok\n",
      "test_empty_has_none (__main__.CountIncreaseTestCase.test_empty_has_none) ... ok\n",
      "test_one_measurement_has_none (__main__.CountIncreaseTestCase.test_one_measurement_has_none) ... ok\n",
      "test_three_ascending_has_two (__main__.CountIncreaseTestCase.test_three_ascending_has_two) ... ok\n",
      "test_empty_list (__main__.TestListSum.test_empty_list) ... ok\n",
      "test_non_empty_list (__main__.TestListSum.test_non_empty_list) ... ok\n",
      "\n",
      "----------------------------------------------------------------------\n",
      "Ran 9 tests in 0.009s\n",
      "\n",
      "OK\n"
     ]
    },
    {
     "data": {
      "text/plain": [
       "<unittest.main.TestProgram at 0x108b39710>"
      ]
     },
     "execution_count": 20,
     "metadata": {},
     "output_type": "execute_result"
    }
   ],
   "source": [
    "unittest.main(argv=[''], verbosity=2, exit=False)"
   ]
  },
  {
   "cell_type": "markdown",
   "id": "7a9f4691-32cd-443c-bd6d-30d84de694c6",
   "metadata": {},
   "source": [
    "Если мы используем тесты в одном из модулей нашего проекта, то запуск всех тестов в модуле test_название можно осуществить из командной строки с помощью \n",
    "\n",
    "python3 -m unittest test_название.py\n",
    "\n",
    "Запуск   тестов   из   класса    CalcTest:\n",
    "\n",
    "python3 -m unittest test_название.CalcTest\n",
    "\n",
    "Запуск   теста    test_sub():\n",
    "\n",
    "python3 -m  unittest  test_название.CalcTest.test_sub "
   ]
  },
  {
   "cell_type": "code",
   "execution_count": 16,
   "id": "28c42e80-6ccb-4198-92ba-a4b4e6000577",
   "metadata": {},
   "outputs": [
    {
     "name": "stdout",
     "output_type": "stream",
     "text": [
      "\n",
      "----------------------------------------------------------------------\n",
      "Ran 0 tests in 0.000s\n",
      "\n",
      "OK\n"
     ]
    }
   ],
   "source": [
    "!python3 -m unittest"
   ]
  },
  {
   "cell_type": "markdown",
   "id": "e133bc0c-6fdc-4022-bc34-e1ed2da01538",
   "metadata": {},
   "source": [
    "### Примеры применения тестов:\n",
    "\n"
   ]
  },
  {
   "cell_type": "code",
   "execution_count": 21,
   "id": "4fa6182f-926a-42fa-9e56-be0d09aace22",
   "metadata": {},
   "outputs": [
    {
     "name": "stderr",
     "output_type": "stream",
     "text": [
      "test_add (__main__.CalcTest.test_add) ... ok\n",
      "test_div (__main__.CalcTest.test_div) ... ok\n",
      "test_mul (__main__.CalcTest.test_mul) ... ok\n",
      "test_sub (__main__.CalcTest.test_sub) ... ok\n",
      "test_empty_has_none (__main__.CountIncreaseTestCase.test_empty_has_none) ... ok\n",
      "test_one_measurement_has_none (__main__.CountIncreaseTestCase.test_one_measurement_has_none) ... ok\n",
      "test_three_ascending_has_two (__main__.CountIncreaseTestCase.test_three_ascending_has_two) ... ok\n",
      "test_empty_list (__main__.TestListSum.test_empty_list) ... ok\n",
      "test_non_empty_list (__main__.TestListSum.test_non_empty_list) ... ok\n",
      "\n",
      "----------------------------------------------------------------------\n",
      "Ran 9 tests in 0.008s\n",
      "\n",
      "OK\n"
     ]
    },
    {
     "data": {
      "text/plain": [
       "<unittest.main.TestProgram at 0x108b59b50>"
      ]
     },
     "execution_count": 21,
     "metadata": {},
     "output_type": "execute_result"
    }
   ],
   "source": [
    "def list_sum(lst):\n",
    "    return sum(lst)\n",
    "\n",
    "class TestListSum(unittest.TestCase):\n",
    "    def test_empty_list(self):\n",
    "        self.assertEqual(list_sum([]), 0)\n",
    "\n",
    "    def test_non_empty_list(self):\n",
    "        self.assertEqual(list_sum([1, 2, 3]), 6)\n",
    "\n",
    "unittest.main(argv=[''], verbosity=2, exit=False)"
   ]
  },
  {
   "cell_type": "code",
   "execution_count": 22,
   "id": "b129c3c8-67b6-4bf5-a1af-5975d74ee630",
   "metadata": {},
   "outputs": [
    {
     "name": "stderr",
     "output_type": "stream",
     "text": [
      "test_add (__main__.CalcTest.test_add) ... ok\n",
      "test_div (__main__.CalcTest.test_div) ... ok\n",
      "test_mul (__main__.CalcTest.test_mul) ... ok\n",
      "test_sub (__main__.CalcTest.test_sub) ... ok\n",
      "test_empty_has_none (__main__.CountIncreaseTestCase.test_empty_has_none) ... ok\n",
      "test_one_measurement_has_none (__main__.CountIncreaseTestCase.test_one_measurement_has_none) ... ok\n",
      "test_three_ascending_has_two (__main__.CountIncreaseTestCase.test_three_ascending_has_two) ... ok\n",
      "test_divide_by_zero (__main__.TestDivide.test_divide_by_zero) ... ok\n",
      "test_divide_normal (__main__.TestDivide.test_divide_normal) ... ok\n",
      "test_empty_list (__main__.TestListSum.test_empty_list) ... ok\n",
      "test_non_empty_list (__main__.TestListSum.test_non_empty_list) ... ok\n",
      "\n",
      "----------------------------------------------------------------------\n",
      "Ran 11 tests in 0.012s\n",
      "\n",
      "OK\n"
     ]
    },
    {
     "data": {
      "text/plain": [
       "<unittest.main.TestProgram at 0x108b79450>"
      ]
     },
     "execution_count": 22,
     "metadata": {},
     "output_type": "execute_result"
    }
   ],
   "source": [
    "def divide(a, b):\n",
    "    return a / b\n",
    "\n",
    "class TestDivide(unittest.TestCase):\n",
    "    \n",
    "    def test_divide_by_zero(self):\n",
    "        with self.assertRaises(ZeroDivisionError):\n",
    "            divide(1, 0)\n",
    "\n",
    "    def test_divide_normal(self):\n",
    "        self.assertEqual(divide(5,5), 1)\n",
    "\n",
    "unittest.main(argv=[''], verbosity=2, exit=False)"
   ]
  },
  {
   "cell_type": "code",
   "execution_count": 6,
   "id": "5a47b4ed-fdd5-45a7-bbdf-78cdd0d880c4",
   "metadata": {},
   "outputs": [],
   "source": [
    "def square_eq_solver(a, b, c):\n",
    "    # Решение квадратного уравнения ax^2 + bx + c = 0\n",
    "    d = b**2 - 4*a*c\n",
    "    if d < 0:\n",
    "        return []\n",
    "    elif d == 0:\n",
    "        return [-b / (2 * a)]\n",
    "    else:\n",
    "        return [(-b + d**0.5) / (2 * a), (-b - d**0.5) / (2 * a)]\n",
    "\n",
    "class TestSquareEqSolver(unittest.TestCase):\n",
    "    def test_no_root(self):\n",
    "        self.assertEqual(square_eq_solver(1, 0, 1), [])\n",
    "\n",
    "    def test_single_root(self):\n",
    "        self.assertEqual(square_eq_solver(1, 2, 1), [-1])\n",
    "\n",
    "    def test_multiple_roots(self):\n",
    "        self.assertEqual(square_eq_solver(1, -3, 2), [2, 1])"
   ]
  },
  {
   "cell_type": "code",
   "execution_count": 7,
   "id": "6b92636f-b235-49e6-b13c-ce4402bd6ded",
   "metadata": {},
   "outputs": [],
   "source": [
    "def capitalize_words(sentence):\n",
    "    #  Функция, которая делает первую букву каждого слова заглавной\n",
    "    return ' '.join(word.capitalize() for word in sentence.split())\n",
    "\n",
    "class TestCapitalizeWords(unittest.TestCase):\n",
    "    def test_basic(self):\n",
    "        self.assertEqual(capitalize_words(\"hello world\"), \"Hello World\")\n",
    "\n",
    "    def test_empty(self):\n",
    "        self.assertEqual(capitalize_words(\"\"), \"\")"
   ]
  },
  {
   "cell_type": "code",
   "execution_count": 8,
   "id": "659b920f-f6cc-4b6f-84e7-3d470c8d684f",
   "metadata": {},
   "outputs": [],
   "source": [
    "def unique_elements(lst):\n",
    "    # Функция возвращает уникальные элементы из списка\n",
    "    return list(set(lst))\n",
    "\n",
    "class TestUniqueElements(unittest.TestCase):\n",
    "    def test_with_duplicates(self):\n",
    "        self.assertEqual(unique_elements([1, 2, 2, 3]), [1, 2, 3])\n",
    "\n",
    "    def test_empty_list(self):\n",
    "        self.assertEqual(unique_elements([]), [])"
   ]
  },
  {
   "cell_type": "code",
   "execution_count": 9,
   "id": "3524b7ae-57bd-4d35-a322-d17185b0a716",
   "metadata": {},
   "outputs": [],
   "source": [
    "def is_palindrome(s):\n",
    "    # Функция определяет, является ли строка палиндромом\n",
    "    return s == s[::-1]\n",
    "\n",
    "class TestIsPalindrome(unittest.TestCase):\n",
    "    def test_palindrome(self):\n",
    "        self.assertTrue(is_palindrome(\"racecar\"))\n",
    "\n",
    "    def test_not_palindrome(self):\n",
    "        self.assertFalse(is_palindrome(\"hello\"))"
   ]
  },
  {
   "cell_type": "code",
   "execution_count": 10,
   "id": "91a9999c-03bc-4163-8f60-75a055f53cd1",
   "metadata": {},
   "outputs": [
    {
     "name": "stderr",
     "output_type": "stream",
     "text": [
      "test_empty_has_none (__main__.CountIncreaseTestCase.test_empty_has_none) ... ok\n",
      "test_one_measurement_has_none (__main__.CountIncreaseTestCase.test_one_measurement_has_none) ... ok\n",
      "test_three_ascending_has_two (__main__.CountIncreaseTestCase.test_three_ascending_has_two) ... ok\n",
      "test_basic (__main__.TestCapitalizeWords.test_basic) ... ok\n",
      "test_empty (__main__.TestCapitalizeWords.test_empty) ... ok\n",
      "test_divide_by_zero (__main__.TestDivide.test_divide_by_zero) ... ok\n",
      "test_divide_normal (__main__.TestDivide.test_divide_normal) ... ok\n",
      "test_not_palindrome (__main__.TestIsPalindrome.test_not_palindrome) ... ok\n",
      "test_palindrome (__main__.TestIsPalindrome.test_palindrome) ... ok\n",
      "test_empty_list (__main__.TestListSum.test_empty_list) ... ok\n",
      "test_non_empty_list (__main__.TestListSum.test_non_empty_list) ... ok\n",
      "test_multiple_roots (__main__.TestSquareEqSolver.test_multiple_roots) ... ok\n",
      "test_no_root (__main__.TestSquareEqSolver.test_no_root) ... ok\n",
      "test_single_root (__main__.TestSquareEqSolver.test_single_root) ... ok\n",
      "test_empty_list (__main__.TestUniqueElements.test_empty_list) ... ok\n",
      "test_with_duplicates (__main__.TestUniqueElements.test_with_duplicates) ... ok\n",
      "\n",
      "----------------------------------------------------------------------\n",
      "Ran 16 tests in 0.012s\n",
      "\n",
      "OK\n"
     ]
    },
    {
     "data": {
      "text/plain": [
       "<unittest.main.TestProgram at 0x104f58ed0>"
      ]
     },
     "execution_count": 10,
     "metadata": {},
     "output_type": "execute_result"
    }
   ],
   "source": [
    "unittest.main(argv=[''], verbosity=2, exit=False)"
   ]
  },
  {
   "cell_type": "markdown",
   "id": "9e62faf0-4b4a-43b0-85c6-5230b28a7926",
   "metadata": {},
   "source": [
    "## Стили написания unit-тестов:\n",
    "1. Проверка выходных данных (вызываем метод, проверяем, что его возвращаемое значение равно ожидаемому)\n",
    "2. Проверка состояния (вызываем метод, проверяем состояние тестируемой системы или ее зависимостей)\n",
    "3. Проверка взаимодействия (вызываем метод, проверяем как/сколько/каким образом происходило взаимодействие)"
   ]
  },
  {
   "cell_type": "markdown",
   "id": "89206be5-1cd4-453c-a9ee-e926b5968666",
   "metadata": {},
   "source": [
    "### ЗАДАНИЯ:\n",
    "\n",
    "1. Проверка на наличие элемента в списке.\n",
    "   \n",
    "Напишите тест для функции, которая проверяет наличие элемента в списке.\n",
    "\n",
    "2. Тестирование словаря\n",
    "   \n",
    "Создайте функцию, которая добавляет ключ-значение в словарь и напишите тест для проверки добавления.\n",
    "\n",
    "3. Тестирование работы с множествами.\n",
    "   \n",
    "Создайте функцию, которая объединяет два множества и напишите тест для проверки результата.\n",
    "\n",
    "4. Тестирование работы с пользовательскими классами.\n",
    "   \n",
    "Создайте класс с методом и напишите тесты для проверки его работы (например, метод вычисления площади прямоугольника)."
   ]
  },
  {
   "cell_type": "code",
   "execution_count": null,
   "id": "cd07c702-a309-49bb-b0c1-a271a2c98c14",
   "metadata": {},
   "outputs": [],
   "source": []
  }
 ],
 "metadata": {
  "kernelspec": {
   "display_name": "Python 3 (ipykernel)",
   "language": "python",
   "name": "python3"
  },
  "language_info": {
   "codemirror_mode": {
    "name": "ipython",
    "version": 3
   },
   "file_extension": ".py",
   "mimetype": "text/x-python",
   "name": "python",
   "nbconvert_exporter": "python",
   "pygments_lexer": "ipython3",
   "version": "3.11.7"
  }
 },
 "nbformat": 4,
 "nbformat_minor": 5
}
